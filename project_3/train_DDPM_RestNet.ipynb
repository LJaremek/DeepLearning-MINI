{
 "cells": [
  {
   "cell_type": "code",
   "execution_count": null,
   "metadata": {},
   "outputs": [],
   "source": [
    "import os\n",
    "import re\n",
    "\n",
    "from torchvision import datasets, transforms\n",
    "from torch.utils.data import DataLoader\n",
    "from diffusers import DDPMScheduler\n",
    "import torch.nn.functional as F\n",
    "from torch.optim import AdamW\n",
    "from tqdm import tqdm\n",
    "import torch.nn as nn\n",
    "import torch\n",
    "import timm\n",
    "\n"
   ]
  },
  {
   "cell_type": "code",
   "execution_count": null,
   "metadata": {},
   "outputs": [],
   "source": [
    "batch_size = 64\n",
    "learning_rate = 1e-4\n",
    "num_epochs = 10\n",
    "image_size = 64\n",
    "data_path = \"data/bedroom\"\n",
    "\n",
    "device = torch.device(\"cuda\" if torch.cuda.is_available() else \"cpu\")\n",
    "print(\"Device:\", device)\n"
   ]
  },
  {
   "cell_type": "code",
   "execution_count": null,
   "metadata": {},
   "outputs": [],
   "source": [
    "def find_folder_with_max_number(base_path: str, type_name: str) -> int:\n",
    "    max_number = -1\n",
    "\n",
    "    regex_ = f\"{type_name}_\" + r\"(\\d+)\"\n",
    "    pattern = re.compile(regex_)\n",
    "    \n",
    "    for item in os.listdir(base_path):\n",
    "        item_path = os.path.join(base_path, item)\n",
    "\n",
    "        if os.path.isdir(item_path):\n",
    "            match = pattern.match(item)\n",
    "            if match:\n",
    "                number = int(match.group(1))\n",
    "                if number > max_number:\n",
    "                    max_number = number\n",
    "\n",
    "    return max_number\n"
   ]
  },
  {
   "cell_type": "code",
   "execution_count": null,
   "metadata": {},
   "outputs": [],
   "source": [
    "transform = transforms.Compose([\n",
    "    transforms.Resize((image_size, image_size)),\n",
    "    transforms.ToTensor(),\n",
    "    transforms.Normalize([0.5, 0.5, 0.5], [0.5, 0.5, 0.5])\n",
    "])\n",
    "\n",
    "dataset = datasets.ImageFolder(data_path, transform=transform)\n",
    "\n",
    "dataloader = DataLoader(dataset, batch_size=batch_size, shuffle=True)\n"
   ]
  },
  {
   "cell_type": "code",
   "execution_count": null,
   "metadata": {},
   "outputs": [],
   "source": [
    "last_epoch = find_folder_with_max_number(\n",
    "    \"model_paths/stable_diffusion\",\n",
    "    \"all_data\"\n",
    "    )\n",
    "\n",
    "print(\"Last epoch:\", last_epoch)\n",
    "\n",
    "if last_epoch == -1:\n",
    "    model_id = \"CompVis/stable-diffusion-v1-4\"\n",
    "    last_epoch = 0\n",
    "else:\n",
    "    model_id = f\"model_paths/stable_diffusion/all_data_{last_epoch}\"\n"
   ]
  },
  {
   "cell_type": "code",
   "execution_count": null,
   "metadata": {},
   "outputs": [],
   "source": [
    "class ResNetDiffusionModel(nn.Module):\n",
    "    def __init__(self):\n",
    "        super(ResNetDiffusionModel, self).__init__()\n",
    "        self.resnet = timm.create_model(\"resnet18\", pretrained=True)\n",
    "        self.resnet.fc = nn.Identity()\n",
    "        self.fc = nn.Linear(512, 3 * 64 * 64)\n",
    "        \n",
    "        self.time_embed = nn.Sequential(\n",
    "            nn.Linear(1, 512),\n",
    "            nn.ReLU(),\n",
    "            nn.Linear(512, 512),\n",
    "            nn.ReLU()\n",
    "        )\n",
    "\n",
    "    def forward(self, x, timesteps):\n",
    "        x = self.resnet(x)\n",
    "        t = self.time_embed(timesteps.float().view(-1, 1))\n",
    "        x = x + t\n",
    "        x = self.fc(x)\n",
    "        return x.view(-1, 3, 64, 64)\n"
   ]
  },
  {
   "cell_type": "code",
   "execution_count": null,
   "metadata": {},
   "outputs": [],
   "source": [
    "model = ResNetDiffusionModel()\n",
    "model.to(device)\n",
    "\n",
    "optimizer = AdamW(model.parameters(), lr=learning_rate)\n",
    "\n",
    "scheduler = DDPMScheduler(\n",
    "    num_train_timesteps=1000,\n",
    "    beta_start=0.0001,\n",
    "    beta_end=0.02,\n",
    "    beta_schedule=\"linear\"\n",
    ")\n"
   ]
  },
  {
   "cell_type": "code",
   "execution_count": null,
   "metadata": {},
   "outputs": [],
   "source": [
    "for epoch in range(last_epoch+1, last_epoch+10):\n",
    "    model.train()\n",
    "    for data in tqdm(dataloader):\n",
    "        inputs, _ = data\n",
    "        inputs = inputs.to(device)\n",
    "\n",
    "        noise = torch.randn_like(inputs)\n",
    "        timesteps = torch.randint(\n",
    "            0,\n",
    "            scheduler.num_train_timesteps,\n",
    "            (inputs.shape[0], ),\n",
    "            device=device\n",
    "            ).long()\n",
    "\n",
    "        noisy_inputs = scheduler.add_noise(inputs, noise, timesteps)\n",
    "\n",
    "        noise_pred = model(noisy_inputs, timesteps)\n",
    "        loss = F.mse_loss(noise_pred, noise)\n",
    "\n",
    "        optimizer.zero_grad()\n",
    "        loss.backward()\n",
    "        optimizer.step()\n",
    "\n",
    "    torch.save(model.state_dict(), f\"model_paths/resnet/all_data_{epoch}.pth\")\n",
    "    print(f\"Epoch {epoch}, Loss: {loss.item():.4f}\")\n"
   ]
  },
  {
   "cell_type": "code",
   "execution_count": null,
   "metadata": {},
   "outputs": [],
   "source": []
  }
 ],
 "metadata": {
  "kernelspec": {
   "display_name": "base",
   "language": "python",
   "name": "python3"
  },
  "language_info": {
   "codemirror_mode": {
    "name": "ipython",
    "version": 3
   },
   "file_extension": ".py",
   "mimetype": "text/x-python",
   "name": "python",
   "nbconvert_exporter": "python",
   "pygments_lexer": "ipython3",
   "version": "3.10.14"
  }
 },
 "nbformat": 4,
 "nbformat_minor": 2
}
