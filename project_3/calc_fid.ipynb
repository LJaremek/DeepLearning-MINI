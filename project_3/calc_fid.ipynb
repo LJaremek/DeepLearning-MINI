{
 "cells": [
  {
   "cell_type": "code",
   "execution_count": 7,
   "metadata": {},
   "outputs": [],
   "source": [
    "import os\n",
    "\n",
    "import torchvision.transforms as transforms\n",
    "from pytorch_fid import fid_score\n",
    "from PIL import Image\n",
    "import torch\n"
   ]
  },
  {
   "cell_type": "code",
   "execution_count": 8,
   "metadata": {},
   "outputs": [
    {
     "name": "stdout",
     "output_type": "stream",
     "text": [
      "Device: cpu\n"
     ]
    }
   ],
   "source": [
    "image_size = 64\n",
    "\n",
    "device = torch.device(\"cuda\" if- torch.cuda.is_available() else \"cpu\")\n",
    "print(\"Device:\", device)\n"
   ]
  },
  {
   "cell_type": "code",
   "execution_count": 11,
   "metadata": {},
   "outputs": [],
   "source": [
    "def resize_images(\n",
    "        input_folder: str,\n",
    "        output_folder: str,\n",
    "        size: tuple[int, int]\n",
    "        ) -> None:\n",
    "\n",
    "    if not os.path.exists(output_folder):\n",
    "        os.makedirs(output_folder)\n",
    "\n",
    "    transform = transforms.Compose([\n",
    "        transforms.Resize(size),\n",
    "        transforms.ToTensor(),\n",
    "        transforms.Normalize([0.5, 0.5, 0.5], [0.5, 0.5, 0.5])\n",
    "    ])\n",
    "\n",
    "    for filename in os.listdir(input_folder):\n",
    "        if (filename.endswith('.png') or\n",
    "            filename.endswith('.jpg') or\n",
    "            filename.endswith('.jpeg')):\n",
    "\n",
    "            image = Image.open(os.path.join(input_folder, filename)).convert('RGB')\n",
    "            image = transform(image)\n",
    "            image = transforms.ToPILImage()(image)\n",
    "            image.save(os.path.join(output_folder, filename))\n"
   ]
  },
  {
   "cell_type": "code",
   "execution_count": 16,
   "metadata": {},
   "outputs": [
    {
     "name": "stderr",
     "output_type": "stream",
     "text": [
      "100%|██████████| 2/2 [00:07<00:00,  3.51s/it]\n",
      "100%|██████████| 11/11 [00:20<00:00,  1.84s/it]"
     ]
    },
    {
     "name": "stdout",
     "output_type": "stream",
     "text": [
      "FID: 12.522584764463359\n"
     ]
    },
    {
     "name": "stderr",
     "output_type": "stream",
     "text": [
      "\n"
     ]
    }
   ],
   "source": [
    "generated_images_folder = \"generated_images\"\n",
    "real_images_folder = \"data_flat\"\n",
    "resized_real_folder = \"data_flat_resized\"\n",
    "\n",
    "resize_images(\n",
    "    real_images_folder,\n",
    "    resized_real_folder,\n",
    "    size=(image_size, image_size)\n",
    "    )\n",
    "\n",
    "fid_value = fid_score.calculate_fid_given_paths(\n",
    "    [generated_images_folder, resized_real_folder],\n",
    "    batch_size=64,\n",
    "    device=device,\n",
    "    dims=64\n",
    "    )\n",
    "\n",
    "print(f\"FID: {fid_value}\")\n"
   ]
  }
 ],
 "metadata": {
  "kernelspec": {
   "display_name": "base",
   "language": "python",
   "name": "python3"
  },
  "language_info": {
   "codemirror_mode": {
    "name": "ipython",
    "version": 3
   },
   "file_extension": ".py",
   "mimetype": "text/x-python",
   "name": "python",
   "nbconvert_exporter": "python",
   "pygments_lexer": "ipython3",
   "version": "3.10.14"
  }
 },
 "nbformat": 4,
 "nbformat_minor": 2
}
