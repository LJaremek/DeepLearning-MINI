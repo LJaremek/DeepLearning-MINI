{
 "cells": [
  {
   "cell_type": "code",
   "execution_count": 1,
   "metadata": {},
   "outputs": [],
   "source": [
    "from diffusers import UNet2DModel, DDPMScheduler\n",
    "from torchvision.transforms import ToPILImage\n",
    "import torch\n"
   ]
  },
  {
   "cell_type": "code",
   "execution_count": 2,
   "metadata": {},
   "outputs": [],
   "source": [
    "image_size = 64\n",
    "\n",
    "device = torch.device(\"cuda\" if- torch.cuda.is_available() else \"cpu\")\n",
    "print(\"Device:\", device)\n"
   ]
  },
  {
   "cell_type": "code",
   "execution_count": 3,
   "metadata": {},
   "outputs": [],
   "source": [
    "def generate_image(model, scheduler, image_size, device):\n",
    "    noisy_image = torch.randn(1, 3, image_size, image_size).to(device)\n",
    "\n",
    "    for t in reversed(range(scheduler.config.num_train_timesteps)):\n",
    "        t_tensor = torch.tensor([t], device=device).long()\n",
    "        with torch.no_grad():\n",
    "            noise_pred = model(noisy_image, t_tensor).sample\n",
    "\n",
    "        noisy_image = scheduler.step(\n",
    "            noise_pred, t_tensor, noisy_image\n",
    "            ).prev_sample\n",
    "\n",
    "    image = (noisy_image.clamp(-1, 1) + 1) / 2  # Scale the image to [0, 1]\n",
    "    image = image.cpu().squeeze()\n",
    "\n",
    "    return image\n"
   ]
  },
  {
   "cell_type": "code",
   "execution_count": 4,
   "metadata": {},
   "outputs": [
    {
     "name": "stderr",
     "output_type": "stream",
     "text": [
      "Cannot initialize model with low cpu memory usage because `accelerate` was not found in the environment. Defaulting to `low_cpu_mem_usage=False`. It is strongly recommended to install `accelerate` for faster and less memory-intense model loading. You can do so with: \n",
      "```\n",
      "pip install accelerate\n",
      "```\n",
      ".\n"
     ]
    }
   ],
   "source": [
    "scheduler = DDPMScheduler(\n",
    "    num_train_timesteps=1000,\n",
    "    beta_start=0.0001,\n",
    "    beta_end=0.02,\n",
    "    beta_schedule=\"linear\"\n",
    ")\n",
    "\n",
    "model = UNet2DModel.from_pretrained(\"model_paths/all_data_1\")\n",
    "model.to(device)\n",
    "model.eval()\n",
    "\n",
    "generated_image = generate_image(model, scheduler, image_size, device)\n",
    "\n",
    "to_pil = ToPILImage()\n",
    "pil_image = to_pil(generated_image)\n",
    "pil_image.show()\n"
   ]
  }
 ],
 "metadata": {
  "kernelspec": {
   "display_name": "base",
   "language": "python",
   "name": "python3"
  },
  "language_info": {
   "codemirror_mode": {
    "name": "ipython",
    "version": 3
   },
   "file_extension": ".py",
   "mimetype": "text/x-python",
   "name": "python",
   "nbconvert_exporter": "python",
   "pygments_lexer": "ipython3",
   "version": "3.10.14"
  }
 },
 "nbformat": 4,
 "nbformat_minor": 2
}
