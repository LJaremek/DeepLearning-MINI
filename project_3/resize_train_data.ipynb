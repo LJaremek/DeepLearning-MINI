{
 "cells": [
  {
   "cell_type": "code",
   "execution_count": null,
   "metadata": {},
   "outputs": [],
   "source": [
    "import os\n",
    "\n",
    "import torchvision.transforms as transforms\n",
    "from PIL import Image\n"
   ]
  },
  {
   "cell_type": "code",
   "execution_count": null,
   "metadata": {},
   "outputs": [],
   "source": [
    "def process_images(\n",
    "        src_folder: str,\n",
    "        dst_folder: str,\n",
    "        size: tuple[int, int]\n",
    "        ) -> None:\n",
    "\n",
    "    if not os.path.exists(dst_folder):\n",
    "        os.makedirs(dst_folder)\n",
    "        \n",
    "    transform = transforms.Compose([\n",
    "        transforms.Resize(size),\n",
    "        transforms.ToTensor()\n",
    "    ])\n",
    "\n",
    "    for root, _, files in os.walk(src_folder):\n",
    "        for file in files:\n",
    "            if file.endswith((\".png\", \".jpg\", \".jpeg\")):\n",
    "                file_path = os.path.join(root, file)\n",
    "                image = Image.open(file_path).convert(\"RGB\")\n",
    "                image = transform(image)\n",
    "                image = transforms.ToPILImage()(image)\n",
    "                \n",
    "                name = f\"{os.path.splitext(file)[0]}_\"\n",
    "                name += f\"{os.path.relpath(root, src_folder).replace(os.sep, '_')}\"\n",
    "                name += f\"{os.path.splitext(file)[1]}\"\n",
    "\n",
    "                new_file_path = os.path.join(dst_folder, name)\n",
    "                image.save(new_file_path)\n"
   ]
  },
  {
   "cell_type": "code",
   "execution_count": null,
   "metadata": {},
   "outputs": [],
   "source": [
    "image_size = 64\n",
    "\n",
    "src_folder = \"data/bedroom\"\n",
    "dst_folder = \"data_flat_resized\"\n",
    "\n",
    "process_images(src_folder, dst_folder, size=(image_size, image_size))\n"
   ]
  }
 ],
 "metadata": {
  "kernelspec": {
   "display_name": "base",
   "language": "python",
   "name": "python3"
  },
  "language_info": {
   "codemirror_mode": {
    "name": "ipython",
    "version": 3
   },
   "file_extension": ".py",
   "mimetype": "text/x-python",
   "name": "python",
   "nbconvert_exporter": "python",
   "pygments_lexer": "ipython3",
   "version": "3.10.14"
  }
 },
 "nbformat": 4,
 "nbformat_minor": 2
}
