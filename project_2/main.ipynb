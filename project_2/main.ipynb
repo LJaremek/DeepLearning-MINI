{
 "cells": [
  {
   "cell_type": "code",
   "execution_count": 1,
   "metadata": {},
   "outputs": [],
   "source": [
    "import os\n",
    "\n",
    "from torch.utils.data import DataLoader, TensorDataset\n",
    "from sklearn.model_selection import train_test_split\n",
    "from sklearn.preprocessing import LabelEncoder\n",
    "from sklearn.cluster import KMeans\n",
    "import torch.nn as nn\n",
    "import numpy as np\n",
    "import torchaudio\n",
    "import torch\n"
   ]
  },
  {
   "cell_type": "code",
   "execution_count": 2,
   "metadata": {},
   "outputs": [],
   "source": [
    "def audio_to_spectrogram(file_path):\n",
    "    waveform, sr = torchaudio.load(file_path)\n",
    "\n",
    "    transformer = torchaudio.transforms.MelSpectrogram(\n",
    "        sample_rate=sr, n_fft=2048, hop_length=512, n_mels=64\n",
    "        )\n",
    "\n",
    "    spectrogram = transformer(waveform)\n",
    "    spectrogram = torchaudio.transforms.AmplitudeToDB()(spectrogram)\n",
    "    return spectrogram.squeeze(0).transpose(0, 1)  # Transpose to have time steps on the first dimension\n",
    "\n",
    "\n",
    "def vector_quantize(features, n_clusters=100):\n",
    "    kmeans = KMeans(n_clusters=n_clusters)\n",
    "    all_data = np.vstack([f.numpy() for f in features])\n",
    "    kmeans.fit(all_data)\n",
    "\n",
    "    quantized_features = [\n",
    "        torch.tensor(kmeans.predict(f.numpy()), dtype=torch.long)\n",
    "        for f in features\n",
    "        ]\n",
    "\n",
    "    return quantized_features, kmeans\n",
    "\n",
    "\n",
    "def load_and_quantize_data(\n",
    "        directory,\n",
    "        target_labels=[\"up\", \"down\", \"left\", \"right\"],\n",
    "        n_clusters=100\n",
    "        ):\n",
    "\n",
    "    features = []\n",
    "    labels = []\n",
    "    for label in os.listdir(directory):\n",
    "        if label in target_labels:\n",
    "            class_dir = os.path.join(directory, label)\n",
    "            for fname in os.listdir(class_dir):\n",
    "                file_path = os.path.join(class_dir, fname)\n",
    "                spectrogram = audio_to_spectrogram(file_path)\n",
    "                features.append(spectrogram)\n",
    "                labels.append(label)\n",
    "\n",
    "    quantized_features, _ = vector_quantize(features, n_clusters)\n",
    "\n",
    "    return quantized_features, labels\n",
    "\n",
    "\n",
    "def pad_sequences(sequences, pad_value=0):\n",
    "    # Oblicz maksymalną długość sekwencji\n",
    "    max_len = max([s.size(0) for s in sequences])\n",
    "\n",
    "    # Wypełnij każdy tensor w liście, aby miał maksymalną długość\n",
    "    padded_sequences = [\n",
    "        torch.nn.functional.pad(s, (0, max_len - s.size(0)), value=pad_value)\n",
    "        for s in sequences\n",
    "        ]\n",
    "\n",
    "    # Stos wszystkich wypełnionych tensorów\n",
    "    return torch.stack(padded_sequences)\n",
    "\n",
    "\n",
    "class AudioTransformer(nn.Module):\n",
    "    def __init__(\n",
    "            self,\n",
    "            num_tokens, dim_model, num_heads, num_classes,\n",
    "            dim_feedforward=2048, num_layers=1, dropout=0.1\n",
    "            ):\n",
    "\n",
    "        super().__init__()\n",
    "        self.embedding = nn.Embedding(num_tokens, dim_model)\n",
    "\n",
    "        encoder_layer = nn.TransformerEncoderLayer(\n",
    "            d_model=dim_model, nhead=num_heads,\n",
    "            dim_feedforward=dim_feedforward, dropout=dropout\n",
    "            )\n",
    "\n",
    "        self.transformer_encoder = nn.TransformerEncoder(\n",
    "            encoder_layer, num_layers=num_layers\n",
    "            )\n",
    "\n",
    "        self.fc = nn.Linear(dim_model, num_classes)\n",
    "\n",
    "    def forward(self, src):\n",
    "        src = self.embedding(src)  # Replace tokens with embeddings\n",
    "        output = self.transformer_encoder(src)\n",
    "        output = output.mean(dim=1)  # Average over the sequence for classification\n",
    "        output = self.fc(output)\n",
    "        return output\n"
   ]
  },
  {
   "cell_type": "code",
   "execution_count": 3,
   "metadata": {},
   "outputs": [
    {
     "name": "stderr",
     "output_type": "stream",
     "text": [
      "c:\\Users\\Studia\\anaconda3\\lib\\site-packages\\sklearn\\cluster\\_kmeans.py:1412: FutureWarning: The default value of `n_init` will change from 10 to 'auto' in 1.4. Set the value of `n_init` explicitly to suppress the warning\n",
      "  super()._check_params_vs_input(X, default_n_init=10)\n"
     ]
    }
   ],
   "source": [
    "# Load data and vector quantize\n",
    "features, labels = load_and_quantize_data(\"data/train\")\n",
    "# test_features, test_labels = load_and_quantize_data(\"data/test\")\n"
   ]
  },
  {
   "cell_type": "code",
   "execution_count": 4,
   "metadata": {},
   "outputs": [],
   "source": [
    "# Użycie funkcji pad_sequences\n",
    "features_padded = pad_sequences(features)\n",
    "\n",
    "train_features_padded, test_features_padded, train_labels, test_labels = train_test_split(\n",
    "    features_padded, labels, test_size=0.2, random_state=42, stratify=labels\n",
    ")\n",
    "\n",
    "# Convert to tensor and encode labels\n",
    "label_encoder = LabelEncoder()\n",
    "train_labels_encoded = torch.tensor(label_encoder.fit_transform(train_labels))\n",
    "test_labels_encoded = torch.tensor(label_encoder.transform(test_labels))\n",
    "\n",
    "# Create datasets\n",
    "train_dataset = TensorDataset(train_features_padded, train_labels_encoded)\n",
    "test_dataset = TensorDataset(test_features_padded, test_labels_encoded)\n",
    "\n",
    "# Data loaders\n",
    "train_loader = DataLoader(train_dataset, batch_size=32, shuffle=True)\n",
    "test_loader = DataLoader(test_dataset, batch_size=32, shuffle=False)\n"
   ]
  },
  {
   "cell_type": "code",
   "execution_count": 5,
   "metadata": {},
   "outputs": [
    {
     "name": "stderr",
     "output_type": "stream",
     "text": [
      "c:\\Users\\Studia\\anaconda3\\lib\\site-packages\\torch\\nn\\modules\\transformer.py:286: UserWarning: enable_nested_tensor is True, but self.use_nested_tensor is False because encoder_layer.self_attn.batch_first was not True(use batch_first for better inference performance)\n",
      "  warnings.warn(f\"enable_nested_tensor is True, but self.use_nested_tensor is False because {why_not_sparsity_fast_path}\")\n"
     ]
    },
    {
     "name": "stdout",
     "output_type": "stream",
     "text": [
      "Epoch 1, Loss: 1.121802796542896\n",
      "Epoch 2, Loss: 0.9687840770065533\n",
      "Epoch 3, Loss: 0.9445487887044496\n",
      "Epoch 4, Loss: 0.9170245098162301\n",
      "Epoch 5, Loss: 0.9122699446316007\n",
      "Epoch 6, Loss: 0.8917586931699439\n",
      "Epoch 7, Loss: 0.8929908137281233\n",
      "Epoch 8, Loss: 0.8812329342848138\n",
      "Epoch 9, Loss: 0.8803626298904419\n",
      "Epoch 10, Loss: 0.8808649066631301\n"
     ]
    }
   ],
   "source": [
    "# Model\n",
    "num_tokens = 100  # Same as number of clusters\n",
    "model = AudioTransformer(\n",
    "    num_tokens=num_tokens,\n",
    "    dim_model=256,\n",
    "    num_heads=8,\n",
    "    num_classes=len(np.unique(train_labels))\n",
    "    )\n",
    "\n",
    "# Training loop\n",
    "optimizer = torch.optim.Adam(model.parameters(), lr=1e-3)\n",
    "criterion = nn.CrossEntropyLoss()\n",
    "\n",
    "model.train()\n",
    "for epoch in range(10):\n",
    "    loss_sum = []\n",
    "    for inputs, labels in train_loader:\n",
    "        optimizer.zero_grad()\n",
    "        outputs = model(inputs)\n",
    "        loss = criterion(outputs, labels)\n",
    "        loss.backward()\n",
    "        optimizer.step()\n",
    "\n",
    "        loss_sum.append(loss.item())\n",
    "\n",
    "    print(f\"Epoch {epoch+1}, Loss: {np.mean(np.array(loss_sum))}\")\n"
   ]
  },
  {
   "cell_type": "code",
   "execution_count": 7,
   "metadata": {},
   "outputs": [
    {
     "name": "stdout",
     "output_type": "stream",
     "text": [
      "Test Loss: 0.9087, Test Accuracy: 67.58%\n"
     ]
    }
   ],
   "source": [
    "model.eval()  # Przełącz model w tryb oceny\n",
    "test_loss = 0\n",
    "correct = 0\n",
    "total = 0\n",
    "\n",
    "with torch.no_grad():\n",
    "    for inputs, labels in test_loader:\n",
    "        labels = labels.long()  # Upewnij się, że etykiety są typu long\n",
    "        outputs = model(inputs)\n",
    "        loss = criterion(outputs, labels)\n",
    "        test_loss += loss.item() * inputs.size(0)\n",
    "        _, predicted = torch.max(outputs.data, 1)\n",
    "        total += labels.size(0)\n",
    "        correct += (predicted == labels).sum().item()\n",
    "\n",
    "test_loss /= len(test_loader.dataset)\n",
    "test_accuracy = 100 * correct / total\n",
    "print(f\"Test Loss: {test_loss:.4f}, Test Accuracy: {test_accuracy:.2f}%\")\n"
   ]
  }
 ],
 "metadata": {
  "kernelspec": {
   "display_name": "base",
   "language": "python",
   "name": "python3"
  },
  "language_info": {
   "codemirror_mode": {
    "name": "ipython",
    "version": 3
   },
   "file_extension": ".py",
   "mimetype": "text/x-python",
   "name": "python",
   "nbconvert_exporter": "python",
   "pygments_lexer": "ipython3",
   "version": "3.10.14"
  }
 },
 "nbformat": 4,
 "nbformat_minor": 2
}
